{
  "nbformat": 4,
  "nbformat_minor": 0,
  "metadata": {
    "colab": {
      "name": "NewNifti_Boundingbox.ipynb",
      "provenance": [],
      "authorship_tag": "ABX9TyO7KgsiEgnf06HZue3CjWUS",
      "include_colab_link": true
    },
    "kernelspec": {
      "name": "python3",
      "display_name": "Python 3"
    },
    "language_info": {
      "name": "python"
    }
  },
  "cells": [
    {
      "cell_type": "markdown",
      "metadata": {
        "id": "view-in-github",
        "colab_type": "text"
      },
      "source": [
        "<a href=\"https://colab.research.google.com/github/ldelaoa/Hecktor2022/blob/main/NewNifti_Boundingbox.ipynb\" target=\"_parent\"><img src=\"https://colab.research.google.com/assets/colab-badge.svg\" alt=\"Open In Colab\"/></a>"
      ]
    },
    {
      "cell_type": "code",
      "execution_count": 5,
      "metadata": {
        "id": "Fk58dR7tWGQt"
      },
      "outputs": [],
      "source": [
        "import nibabel as nib\n",
        "import matplotlib.pyplot as plt\n",
        "import os\n",
        "import glob\n",
        "import numpy as np"
      ]
    },
    {
      "cell_type": "code",
      "source": [
        "from google.colab import drive\n",
        "drive.mount('/content/drive')"
      ],
      "metadata": {
        "colab": {
          "base_uri": "https://localhost:8080/"
        },
        "id": "_cpKJjGOWyvQ",
        "outputId": "30ef0e35-2c7e-43d7-b7c5-f4a7e7788fd2"
      },
      "execution_count": 6,
      "outputs": [
        {
          "output_type": "stream",
          "name": "stdout",
          "text": [
            "Mounted at /content/drive\n"
          ]
        }
      ]
    },
    {
      "cell_type": "code",
      "source": [
        "data_dir = '/content/drive/My Drive/SampleHecktor22/Data_HECKTOR/'\n",
        "train_images = sorted(\n",
        "    glob.glob(os.path.join(data_dir, \"imagesTr/\", \"*CT.nii.gz\")))\n",
        "train_labels = sorted(\n",
        "    glob.glob(os.path.join(data_dir, \"labelsTr/\", \"*.nii.gz\")))\n",
        "data_dicts = [\n",
        "    {\"image\": image_name, \"label\": label_name}\n",
        "    for image_name, label_name in zip(train_images, train_labels)\n",
        "]\n",
        "train_files, val_files = data_dicts[:-9], data_dicts[-9:]\n",
        "print('train val len:',len(train_files),'-',len(val_files))"
      ],
      "metadata": {
        "colab": {
          "base_uri": "https://localhost:8080/"
        },
        "id": "GyeSp2QrW3Nl",
        "outputId": "9f9dc0ab-8450-4d63-b87e-7a32d63b719c"
      },
      "execution_count": 8,
      "outputs": [
        {
          "output_type": "stream",
          "name": "stdout",
          "text": [
            "train val len: 16 - 9\n"
          ]
        }
      ]
    },
    {
      "cell_type": "code",
      "source": [
        "import matplotlib.patches as patches\n",
        "\n",
        "Y = 100\n",
        "H = 350\n",
        "X =50\n",
        "W = 300\n",
        "from pathlib import WindowsPath\n",
        "for i in range(len(data_dicts)):\n",
        "  img = nib.load(data_dicts[i][\"image\"])\n",
        "  lbl = nib.load(data_dicts[i][\"label\"])\n",
        "  data_img = img.get_fdata()\n",
        "  data_lbl = lbl.get_fdata()\n",
        "  print(data_dicts[i][\"image\"],\" \",data_img.shape,data_lbl.shape)\n",
        "  for l in range(data_lbl.shape[2]):\n",
        "    if np.sum(data_lbl[:,:,l])>1:\n",
        "      sum1 = np.sum(data_lbl[:,:,l])\n",
        "      sum2 = np.sum(data_lbl[X:X+W,Y:Y+H,l])\n",
        "      if sum1 != sum2:\n",
        "        print(sum1,\" \",sum2,l,i)\n",
        "        fig,ax = plt.subplots(1,2,1)\n",
        "        ax.imshow(data_lbl[:,:,l])\n",
        "        rect = patches.Rectangle((50, 100), 40, 30, linewidth=1, edgecolor='r', facecolor='none')\n",
        "        ax.add_patch(rect)\n",
        "        plt.subplot(1,2,2),plt.imshow(data_lbl[X:X+W,Y:Y+H,l])\n",
        "        plt.show()\n"
      ],
      "metadata": {
        "id": "BXToSMrzW0qG"
      },
      "execution_count": null,
      "outputs": []
    },
    {
      "cell_type": "code",
      "source": [
        "data_dir_bb = '/content/drive/My Drive/SampleHecktor22/Data_HECKTOR_bb/'\n",
        "Y = 100\n",
        "H = 350\n",
        "X =50\n",
        "W = 300\n",
        "from pathlib import WindowsPath\n",
        "for i in range(len(data_dicts)):\n",
        "\n",
        "  img = nib.load(data_dicts[i][\"image\"])\n",
        "  lbl = nib.load(data_dicts[i][\"label\"])\n",
        "  data_img = img.get_fdata()\n",
        "  data_lbl = lbl.get_fdata()\n",
        "  \n",
        "  img_bb = data_img[X:X+W,Y:Y+H,:]\n",
        "  nib_img = nib.Nifti1Image(img_bb,np.eye(4))\n",
        "  nib.save(nib_img, os.path.join(data_dir_bb,\"imagesTr/\",str(i)+'__CT.nii.gz'))  \n",
        "  img2 = nib.load(os.path.join(data_dir_bb,\"imagesTr/\",str(i)+ '__CT.nii.gz'))  \n",
        "  data_img2 = img2.get_fdata()\n",
        "\n",
        "  lbl_bb = data_lbl[X:X+W,Y:Y+H,:]\n",
        "  nib_lbl = nib.Nifti1Image(lbl_bb,np.eye(4))\n",
        "  nib.save(nib_lbl, os.path.join(data_dir_bb,\"labelsTr/\",str(i)+ '__lbl.nii.gz'))  \n",
        "  lbl2 = nib.load(os.path.join(data_dir_bb, \"labelsTr/\",str(i)+'__lbl.nii.gz'))  \n",
        "  data_lbl2 = lbl2.get_fdata()\n",
        "\n",
        "  if False:\n",
        "    for l in range(data_lbl2.shape[2]):\n",
        "      if np.sum(data_lbl2[:,:,l])>1:\n",
        "        plt.subplot(1,2,1),plt.imshow(data_img2[:,:,l])\n",
        "        plt.subplot(1,2,2),plt.imshow(data_lbl2[:,:,l])\n",
        "        plt.show()\n",
        "  \n",
        "\n",
        "\n",
        "  \n",
        "  \n"
      ],
      "metadata": {
        "id": "RQDKgF5Rj9fW"
      },
      "execution_count": 74,
      "outputs": []
    },
    {
      "cell_type": "code",
      "source": [
        ""
      ],
      "metadata": {
        "colab": {
          "base_uri": "https://localhost:8080/",
          "height": 36
        },
        "id": "jjQk-aEbmugd",
        "outputId": "d693a7f7-fce1-4769-85bf-100081588f3d"
      },
      "execution_count": 72,
      "outputs": [
        {
          "output_type": "execute_result",
          "data": {
            "text/plain": [
              "'1__CT.nii.gz'"
            ],
            "application/vnd.google.colaboratory.intrinsic+json": {
              "type": "string"
            }
          },
          "metadata": {},
          "execution_count": 72
        }
      ]
    }
  ]
}